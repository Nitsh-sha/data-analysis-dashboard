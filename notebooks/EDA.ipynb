{
 "cells": [
  {
   "attachments": {},
   "cell_type": "markdown",
   "metadata": {},
   "source": [
    "To perform an exploratory data analysis on the hotel booking data. We will work through the following steps:\n",
    "\n",
    "- Load the data\n",
    "- Understand the variables in the data\n",
    "- Clean the data if necessary\n",
    "- Analyze the data using descriptive statistics, visualizations, and other techniques"
   ]
  },
  {
   "cell_type": "code",
   "execution_count": null,
   "metadata": {},
   "outputs": [],
   "source": [
    "import pandas as pd\n",
    "import plotly.express as px\n",
    "import plotly.graph_objects as go"
   ]
  },
  {
   "cell_type": "code",
   "execution_count": null,
   "metadata": {},
   "outputs": [],
   "source": [
    "df = pd.read_csv(\"../hotel_booking.csv\")"
   ]
  },
  {
   "cell_type": "code",
   "execution_count": null,
   "metadata": {},
   "outputs": [],
   "source": [
    "df.head()"
   ]
  },
  {
   "cell_type": "code",
   "execution_count": null,
   "metadata": {},
   "outputs": [],
   "source": [
    "# check the basic information of the data\n",
    "df.info()"
   ]
  },
  {
   "cell_type": "code",
   "execution_count": null,
   "metadata": {},
   "outputs": [],
   "source": [
    "#describe the data\n",
    "df.describe()"
   ]
  },
  {
   "attachments": {},
   "cell_type": "markdown",
   "metadata": {},
   "source": [
    "Perform data cleaning for the data"
   ]
  },
  {
   "cell_type": "code",
   "execution_count": null,
   "metadata": {},
   "outputs": [],
   "source": [
    "# Fill missing values in the `children` column with 0.\n",
    "df['children'].fillna(0, inplace=True)"
   ]
  },
  {
   "cell_type": "code",
   "execution_count": null,
   "metadata": {},
   "outputs": [],
   "source": [
    "# Fill missing values in the `country` column with \"Unknown\".\n",
    "df['country'].fillna('Unknown', inplace=True)"
   ]
  },
  {
   "cell_type": "code",
   "execution_count": null,
   "metadata": {},
   "outputs": [],
   "source": [
    "# Drop the `company` column since it has too many missing values and is not relevant to our analysis.\n",
    "# Drop the `agent` column since it has a large number of missing values and is not relevant to our analysis.\n",
    "df.drop(['company', 'agent'], axis=1, inplace=True)"
   ]
  },
  {
   "cell_type": "code",
   "execution_count": null,
   "metadata": {},
   "outputs": [],
   "source": [
    "# Check for duplicate records\n",
    "duplicate_rows = df[df.duplicated()]\n",
    "print(\"Duplicate Rows:\")\n",
    "print(duplicate_rows)"
   ]
  },
  {
   "cell_type": "code",
   "execution_count": null,
   "metadata": {},
   "outputs": [],
   "source": [
    "#Check for specific duplicate records\n",
    "# Columns relevant for identifying duplicate bookings\n",
    "duplicate_columns = [\n",
    "    'hotel', 'name', 'email', 'phone-number', 'credit_card', 'arrival_date_year', 'arrival_date_month',\n",
    "    'arrival_date_week_number', 'arrival_date_day_of_month', 'reservation_status_date'\n",
    "]\n",
    "\n",
    "# Check for duplicate rows based on the subset of columns\n",
    "duplicate_rows = df[df.duplicated(subset=duplicate_columns)]\n",
    "print(duplicate_rows)"
   ]
  },
  {
   "attachments": {},
   "cell_type": "markdown",
   "metadata": {},
   "source": [
    "To further refine the identification of duplicate bookings, we include the \"duplicate_columns\".These columns can help differentiate bookings that may have the same contact information but differ in terms of arrival and reservation status dates."
   ]
  },
  {
   "cell_type": "code",
   "execution_count": null,
   "metadata": {},
   "outputs": [],
   "source": [
    "# Drop the rows where `adults` and `children` are both 0, as these are likely to be invalid bookings.\n",
    "df = df.loc[(df['adults'] + df['children']) > 0]"
   ]
  },
  {
   "cell_type": "code",
   "execution_count": null,
   "metadata": {},
   "outputs": [],
   "source": [
    "# Create a new column `total_guests` by summing the `adults`, `children`, and `babies` columns.\n",
    "df['total_guests'] = df['adults'] + df['children'] + df['babies']"
   ]
  },
  {
   "attachments": {},
   "cell_type": "markdown",
   "metadata": {},
   "source": [
    "We include the total number of guests because different hotels charge differenty depending on amounts of guests.By including babies in the total number of guests, we can accurately calculate the total cost of the booking and analyze any trends or patterns related to the number of guests staying in a room."
   ]
  },
  {
   "cell_type": "code",
   "execution_count": null,
   "metadata": {},
   "outputs": [],
   "source": [
    "# Drop the `babies` column since it is not relevant to our analysis.\n",
    "df.drop('babies', axis=1, inplace=True)"
   ]
  },
  {
   "attachments": {},
   "cell_type": "markdown",
   "metadata": {},
   "source": [
    "We choose to exclude the `babies` column since it is not relevant to our analysis. The number of babies staying in a room may not have a significant impact on the total cost of the booking."
   ]
  },
  {
   "cell_type": "code",
   "execution_count": null,
   "metadata": {},
   "outputs": [],
   "source": [
    "# Verify the updated DataFrame\n",
    "print(\"Updated DataFrame:\")\n",
    "df.head()"
   ]
  },
  {
   "cell_type": "code",
   "execution_count": null,
   "metadata": {},
   "outputs": [],
   "source": [
    "#check data information\n",
    "df.describe()"
   ]
  },
  {
   "attachments": {},
   "cell_type": "markdown",
   "metadata": {},
   "source": [
    "Next step is to convert the following coloumns into the appropriate data types:\n",
    "- arrival_date_month: should be categorical\n",
    "- country: should be categorical\n",
    "- meal: should be categorical\n",
    "- market_segment: should be categorical\n",
    "- distribution_channel: should be categorical\n",
    "- reserved_room_type: should be categorical\n",
    "- assigned_room_type: should be categorical\n",
    "- deposit_type: should be categorical\n",
    "- customer_type: should be categorical\n",
    "- reservation_status: should be categorical\n",
    "- reservation_status_date: should be datetime"
   ]
  },
  {
   "cell_type": "code",
   "execution_count": null,
   "metadata": {},
   "outputs": [],
   "source": [
    "# Convert categorical columns to category type\n",
    "df['arrival_date_month'] = pd.Categorical(df['arrival_date_month'])\n",
    "df['country'] = pd.Categorical(df['country'])\n",
    "df['meal'] = pd.Categorical(df['meal'])\n",
    "df['market_segment'] = pd.Categorical(df['market_segment'])\n",
    "df['distribution_channel'] = pd.Categorical(df['distribution_channel'])\n",
    "df['reserved_room_type'] = pd.Categorical(df['reserved_room_type'])\n",
    "df['assigned_room_type'] = pd.Categorical(df['assigned_room_type'])\n",
    "df['deposit_type'] = pd.Categorical(df['deposit_type'])\n",
    "df['customer_type'] = pd.Categorical(df['customer_type'])\n",
    "df['reservation_status'] = pd.Categorical(df['reservation_status'])"
   ]
  },
  {
   "cell_type": "code",
   "execution_count": null,
   "metadata": {},
   "outputs": [],
   "source": [
    "# Convert reservation_status_date to datetime\n",
    "df['reservation_status_date'] = pd.to_datetime(df['reservation_status_date'])"
   ]
  },
  {
   "cell_type": "code",
   "execution_count": null,
   "metadata": {},
   "outputs": [],
   "source": [
    "#check data types again\n",
    "df.dtypes"
   ]
  },
  {
   "cell_type": "code",
   "execution_count": null,
   "metadata": {},
   "outputs": [],
   "source": [
    "# Drop irrelevant columns for our analysis\n",
    "df.drop([\"name\", \"email\", \"phone-number\", \"credit_card\"], axis=1, inplace=True)"
   ]
  },
  {
   "cell_type": "code",
   "execution_count": null,
   "metadata": {},
   "outputs": [],
   "source": [
    "# Remove negative values from \"adr\" column\n",
    "df = df[df[\"adr\"] > 0]"
   ]
  },
  {
   "cell_type": "code",
   "execution_count": null,
   "metadata": {},
   "outputs": [],
   "source": [
    "#Create a histogram of lead time to see the distribution of booking lead times\n",
    "fig1 = px.histogram(df, x=\"lead_time\", nbins=50, title=\"Distribution of Booking Lead Time\")\n",
    "fig1.show()"
   ]
  },
  {
   "cell_type": "code",
   "execution_count": null,
   "metadata": {},
   "outputs": [],
   "source": [
    "#Histogram: ADR distribution, faceted by arrival month\n",
    "fig2 = px.histogram(df,\n",
    "    x='adr',\n",
    "    color='arrival_date_month',\n",
    "    nbins=50,\n",
    "    facet_col='arrival_date_month',\n",
    "    facet_col_wrap=4,\n",
    "    title='ADR Distribution by Arrival Month',\n",
    "    labels={'adr': 'Average Daily Rate (ADR)'}\n",
    ")\n",
    "fig2.show()"
   ]
  },
  {
   "cell_type": "code",
   "execution_count": null,
   "metadata": {
    "scrolled": true
   },
   "outputs": [],
   "source": [
    "#Histogram: Lead Time distribution, faceted by hotel type\n",
    "fig3 = px.histogram(df,\n",
    "    x='lead_time',\n",
    "    color='hotel',\n",
    "    nbins=50,\n",
    "    facet_col='hotel',\n",
    "    title='Lead Time Distribution by Hotel Type',\n",
    "    labels={'lead_time': 'Lead Time'}\n",
    ")\n",
    "fig3.show()"
   ]
  },
  {
   "cell_type": "code",
   "execution_count": null,
   "metadata": {},
   "outputs": [],
   "source": [
    "# Scatter plot: Lead Time vs. ADR\n",
    "fig4 = px.scatter(df,\n",
    "    x='lead_time',\n",
    "    y='adr',\n",
    "    title='Lead Time vs. ADR',\n",
    "    labels={'lead_time': 'Lead Time', 'adr': 'ADR'}\n",
    ")\n",
    "fig4.show()"
   ]
  },
  {
   "cell_type": "code",
   "execution_count": null,
   "metadata": {},
   "outputs": [],
   "source": [
    "# Scatter plot: Total Guests vs. Stays in Week Nights\n",
    "fig5 = px.scatter(df,\n",
    "    x='total_guests',\n",
    "    y='stays_in_week_nights',\n",
    "    title='Total Guests vs. Stays in Week Nights',\n",
    "    labels={'total_guests': 'Total Guests', 'stays_in_week_nights': 'Stays in Week Nights'}\n",
    ")\n",
    "fig5.show()"
   ]
  },
  {
   "cell_type": "code",
   "execution_count": null,
   "metadata": {},
   "outputs": [],
   "source": [
    "#Scatter plot: Previous Cancellations vs. Previous Bookings Not Canceled\n",
    "fig6 = go.Figure()\n",
    "\n",
    "fig6.add_trace(go.Scatter(\n",
    "    x=df['previous_cancellations'],\n",
    "    y=df['previous_bookings_not_canceled'],\n",
    "    mode='markers',\n",
    "    marker=dict(color='purple', size=5),\n",
    "    name='Data',\n",
    "))\n",
    "\n",
    "fig6.update_layout(title='Previous Cancellations vs. Previous Bookings Not Canceled', xaxis_title='Previous Cancellations', yaxis_title='Previous Bookings Not Canceled')\n",
    "fig6.show()"
   ]
  }
 ],
 "metadata": {
  "kernelspec": {
   "display_name": "my_pipenv_kernel",
   "language": "python",
   "name": "my_pipenv_kernel"
  },
  "language_info": {
   "codemirror_mode": {
    "name": "ipython",
    "version": 3
   },
   "file_extension": ".py",
   "mimetype": "text/x-python",
   "name": "python",
   "nbconvert_exporter": "python",
   "pygments_lexer": "ipython3",
   "version": "3.10.9"
  }
 },
 "nbformat": 4,
 "nbformat_minor": 4
}
